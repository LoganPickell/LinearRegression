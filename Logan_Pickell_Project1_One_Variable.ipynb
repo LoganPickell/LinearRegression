{
  "nbformat": 4,
  "nbformat_minor": 0,
  "metadata": {
    "colab": {
      "provenance": []
    },
    "kernelspec": {
      "name": "python3",
      "display_name": "Python 3"
    },
    "language_info": {
      "name": "python"
    }
  },
  "cells": [
    {
      "cell_type": "markdown",
      "source": [
        "Logan Pickell   \n",
        "Artificial Intelligence   \n",
        "CPSC4383   \n",
        "Project 1   \n",
        "Linear Regression model"
      ],
      "metadata": {
        "id": "3IHXPC7HpmK_"
      }
    },
    {
      "cell_type": "markdown",
      "source": [
        "A linear regression model takes a set of known input points and finds the best straight line fit.\n",
        "\n",
        "![linear-regression.png](data:image/png;base64,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)"
      ],
      "metadata": {
        "id": "q-jckZ9cqI62"
      }
    },
    {
      "cell_type": "markdown",
      "source": [
        "# Import files and libraries"
      ],
      "metadata": {
        "id": "6m1BXO9Z8ow9"
      }
    },
    {
      "cell_type": "code",
      "source": [
        "from google.colab import files\n",
        "uploaded = files.upload()\n",
        "filename = 'ex1data1.csv'"
      ],
      "metadata": {
        "colab": {
          "base_uri": "https://localhost:8080/",
          "height": 38
        },
        "id": "IAa38L9068qP",
        "outputId": "7dbdb662-4131-4a68-a2b0-8c709afb6064"
      },
      "execution_count": 2,
      "outputs": [
        {
          "output_type": "display_data",
          "data": {
            "text/plain": [
              "<IPython.core.display.HTML object>"
            ],
            "text/html": [
              "\n",
              "     <input type=\"file\" id=\"files-329e4687-b335-4f6d-8e8f-16b217abebb6\" name=\"files[]\" multiple disabled\n",
              "        style=\"border:none\" />\n",
              "     <output id=\"result-329e4687-b335-4f6d-8e8f-16b217abebb6\">\n",
              "      Upload widget is only available when the cell has been executed in the\n",
              "      current browser session. Please rerun this cell to enable.\n",
              "      </output>\n",
              "      <script>// Copyright 2017 Google LLC\n",
              "//\n",
              "// Licensed under the Apache License, Version 2.0 (the \"License\");\n",
              "// you may not use this file except in compliance with the License.\n",
              "// You may obtain a copy of the License at\n",
              "//\n",
              "//      http://www.apache.org/licenses/LICENSE-2.0\n",
              "//\n",
              "// Unless required by applicable law or agreed to in writing, software\n",
              "// distributed under the License is distributed on an \"AS IS\" BASIS,\n",
              "// WITHOUT WARRANTIES OR CONDITIONS OF ANY KIND, either express or implied.\n",
              "// See the License for the specific language governing permissions and\n",
              "// limitations under the License.\n",
              "\n",
              "/**\n",
              " * @fileoverview Helpers for google.colab Python module.\n",
              " */\n",
              "(function(scope) {\n",
              "function span(text, styleAttributes = {}) {\n",
              "  const element = document.createElement('span');\n",
              "  element.textContent = text;\n",
              "  for (const key of Object.keys(styleAttributes)) {\n",
              "    element.style[key] = styleAttributes[key];\n",
              "  }\n",
              "  return element;\n",
              "}\n",
              "\n",
              "// Max number of bytes which will be uploaded at a time.\n",
              "const MAX_PAYLOAD_SIZE = 100 * 1024;\n",
              "\n",
              "function _uploadFiles(inputId, outputId) {\n",
              "  const steps = uploadFilesStep(inputId, outputId);\n",
              "  const outputElement = document.getElementById(outputId);\n",
              "  // Cache steps on the outputElement to make it available for the next call\n",
              "  // to uploadFilesContinue from Python.\n",
              "  outputElement.steps = steps;\n",
              "\n",
              "  return _uploadFilesContinue(outputId);\n",
              "}\n",
              "\n",
              "// This is roughly an async generator (not supported in the browser yet),\n",
              "// where there are multiple asynchronous steps and the Python side is going\n",
              "// to poll for completion of each step.\n",
              "// This uses a Promise to block the python side on completion of each step,\n",
              "// then passes the result of the previous step as the input to the next step.\n",
              "function _uploadFilesContinue(outputId) {\n",
              "  const outputElement = document.getElementById(outputId);\n",
              "  const steps = outputElement.steps;\n",
              "\n",
              "  const next = steps.next(outputElement.lastPromiseValue);\n",
              "  return Promise.resolve(next.value.promise).then((value) => {\n",
              "    // Cache the last promise value to make it available to the next\n",
              "    // step of the generator.\n",
              "    outputElement.lastPromiseValue = value;\n",
              "    return next.value.response;\n",
              "  });\n",
              "}\n",
              "\n",
              "/**\n",
              " * Generator function which is called between each async step of the upload\n",
              " * process.\n",
              " * @param {string} inputId Element ID of the input file picker element.\n",
              " * @param {string} outputId Element ID of the output display.\n",
              " * @return {!Iterable<!Object>} Iterable of next steps.\n",
              " */\n",
              "function* uploadFilesStep(inputId, outputId) {\n",
              "  const inputElement = document.getElementById(inputId);\n",
              "  inputElement.disabled = false;\n",
              "\n",
              "  const outputElement = document.getElementById(outputId);\n",
              "  outputElement.innerHTML = '';\n",
              "\n",
              "  const pickedPromise = new Promise((resolve) => {\n",
              "    inputElement.addEventListener('change', (e) => {\n",
              "      resolve(e.target.files);\n",
              "    });\n",
              "  });\n",
              "\n",
              "  const cancel = document.createElement('button');\n",
              "  inputElement.parentElement.appendChild(cancel);\n",
              "  cancel.textContent = 'Cancel upload';\n",
              "  const cancelPromise = new Promise((resolve) => {\n",
              "    cancel.onclick = () => {\n",
              "      resolve(null);\n",
              "    };\n",
              "  });\n",
              "\n",
              "  // Wait for the user to pick the files.\n",
              "  const files = yield {\n",
              "    promise: Promise.race([pickedPromise, cancelPromise]),\n",
              "    response: {\n",
              "      action: 'starting',\n",
              "    }\n",
              "  };\n",
              "\n",
              "  cancel.remove();\n",
              "\n",
              "  // Disable the input element since further picks are not allowed.\n",
              "  inputElement.disabled = true;\n",
              "\n",
              "  if (!files) {\n",
              "    return {\n",
              "      response: {\n",
              "        action: 'complete',\n",
              "      }\n",
              "    };\n",
              "  }\n",
              "\n",
              "  for (const file of files) {\n",
              "    const li = document.createElement('li');\n",
              "    li.append(span(file.name, {fontWeight: 'bold'}));\n",
              "    li.append(span(\n",
              "        `(${file.type || 'n/a'}) - ${file.size} bytes, ` +\n",
              "        `last modified: ${\n",
              "            file.lastModifiedDate ? file.lastModifiedDate.toLocaleDateString() :\n",
              "                                    'n/a'} - `));\n",
              "    const percent = span('0% done');\n",
              "    li.appendChild(percent);\n",
              "\n",
              "    outputElement.appendChild(li);\n",
              "\n",
              "    const fileDataPromise = new Promise((resolve) => {\n",
              "      const reader = new FileReader();\n",
              "      reader.onload = (e) => {\n",
              "        resolve(e.target.result);\n",
              "      };\n",
              "      reader.readAsArrayBuffer(file);\n",
              "    });\n",
              "    // Wait for the data to be ready.\n",
              "    let fileData = yield {\n",
              "      promise: fileDataPromise,\n",
              "      response: {\n",
              "        action: 'continue',\n",
              "      }\n",
              "    };\n",
              "\n",
              "    // Use a chunked sending to avoid message size limits. See b/62115660.\n",
              "    let position = 0;\n",
              "    do {\n",
              "      const length = Math.min(fileData.byteLength - position, MAX_PAYLOAD_SIZE);\n",
              "      const chunk = new Uint8Array(fileData, position, length);\n",
              "      position += length;\n",
              "\n",
              "      const base64 = btoa(String.fromCharCode.apply(null, chunk));\n",
              "      yield {\n",
              "        response: {\n",
              "          action: 'append',\n",
              "          file: file.name,\n",
              "          data: base64,\n",
              "        },\n",
              "      };\n",
              "\n",
              "      let percentDone = fileData.byteLength === 0 ?\n",
              "          100 :\n",
              "          Math.round((position / fileData.byteLength) * 100);\n",
              "      percent.textContent = `${percentDone}% done`;\n",
              "\n",
              "    } while (position < fileData.byteLength);\n",
              "  }\n",
              "\n",
              "  // All done.\n",
              "  yield {\n",
              "    response: {\n",
              "      action: 'complete',\n",
              "    }\n",
              "  };\n",
              "}\n",
              "\n",
              "scope.google = scope.google || {};\n",
              "scope.google.colab = scope.google.colab || {};\n",
              "scope.google.colab._files = {\n",
              "  _uploadFiles,\n",
              "  _uploadFilesContinue,\n",
              "};\n",
              "})(self);\n",
              "</script> "
            ]
          },
          "metadata": {}
        }
      ]
    },
    {
      "cell_type": "code",
      "source": [
        "import numpy as np\n",
        "from sklearn.linear_model import LinearRegression\n",
        "from sklearn.model_selection import train_test_split\n",
        "%matplotlib inline\n",
        "import pandas as pd\n",
        "import matplotlib.pyplot as plt\n",
        "import seaborn as sns\n",
        "\n",
        "df = pd.read_csv(filename)\n",
        "df.head(2)"
      ],
      "metadata": {
        "colab": {
          "base_uri": "https://localhost:8080/",
          "height": 112
        },
        "id": "z3YNYkKZp3ns",
        "outputId": "414b8447-88b9-408b-82b0-5bdf6ea1a0db"
      },
      "execution_count": 3,
      "outputs": [
        {
          "output_type": "execute_result",
          "data": {
            "text/plain": [
              "   Population   Profit\n",
              "0      6.1101  17.5920\n",
              "1      5.5277   9.1302"
            ],
            "text/html": [
              "\n",
              "  <div id=\"df-145e5b57-2dcb-4885-940e-d5d5be444049\" class=\"colab-df-container\">\n",
              "    <div>\n",
              "<style scoped>\n",
              "    .dataframe tbody tr th:only-of-type {\n",
              "        vertical-align: middle;\n",
              "    }\n",
              "\n",
              "    .dataframe tbody tr th {\n",
              "        vertical-align: top;\n",
              "    }\n",
              "\n",
              "    .dataframe thead th {\n",
              "        text-align: right;\n",
              "    }\n",
              "</style>\n",
              "<table border=\"1\" class=\"dataframe\">\n",
              "  <thead>\n",
              "    <tr style=\"text-align: right;\">\n",
              "      <th></th>\n",
              "      <th>Population</th>\n",
              "      <th>Profit</th>\n",
              "    </tr>\n",
              "  </thead>\n",
              "  <tbody>\n",
              "    <tr>\n",
              "      <th>0</th>\n",
              "      <td>6.1101</td>\n",
              "      <td>17.5920</td>\n",
              "    </tr>\n",
              "    <tr>\n",
              "      <th>1</th>\n",
              "      <td>5.5277</td>\n",
              "      <td>9.1302</td>\n",
              "    </tr>\n",
              "  </tbody>\n",
              "</table>\n",
              "</div>\n",
              "    <div class=\"colab-df-buttons\">\n",
              "\n",
              "  <div class=\"colab-df-container\">\n",
              "    <button class=\"colab-df-convert\" onclick=\"convertToInteractive('df-145e5b57-2dcb-4885-940e-d5d5be444049')\"\n",
              "            title=\"Convert this dataframe to an interactive table.\"\n",
              "            style=\"display:none;\">\n",
              "\n",
              "  <svg xmlns=\"http://www.w3.org/2000/svg\" height=\"24px\" viewBox=\"0 -960 960 960\">\n",
              "    <path d=\"M120-120v-720h720v720H120Zm60-500h600v-160H180v160Zm220 220h160v-160H400v160Zm0 220h160v-160H400v160ZM180-400h160v-160H180v160Zm440 0h160v-160H620v160ZM180-180h160v-160H180v160Zm440 0h160v-160H620v160Z\"/>\n",
              "  </svg>\n",
              "    </button>\n",
              "\n",
              "  <style>\n",
              "    .colab-df-container {\n",
              "      display:flex;\n",
              "      gap: 12px;\n",
              "    }\n",
              "\n",
              "    .colab-df-convert {\n",
              "      background-color: #E8F0FE;\n",
              "      border: none;\n",
              "      border-radius: 50%;\n",
              "      cursor: pointer;\n",
              "      display: none;\n",
              "      fill: #1967D2;\n",
              "      height: 32px;\n",
              "      padding: 0 0 0 0;\n",
              "      width: 32px;\n",
              "    }\n",
              "\n",
              "    .colab-df-convert:hover {\n",
              "      background-color: #E2EBFA;\n",
              "      box-shadow: 0px 1px 2px rgba(60, 64, 67, 0.3), 0px 1px 3px 1px rgba(60, 64, 67, 0.15);\n",
              "      fill: #174EA6;\n",
              "    }\n",
              "\n",
              "    .colab-df-buttons div {\n",
              "      margin-bottom: 4px;\n",
              "    }\n",
              "\n",
              "    [theme=dark] .colab-df-convert {\n",
              "      background-color: #3B4455;\n",
              "      fill: #D2E3FC;\n",
              "    }\n",
              "\n",
              "    [theme=dark] .colab-df-convert:hover {\n",
              "      background-color: #434B5C;\n",
              "      box-shadow: 0px 1px 3px 1px rgba(0, 0, 0, 0.15);\n",
              "      filter: drop-shadow(0px 1px 2px rgba(0, 0, 0, 0.3));\n",
              "      fill: #FFFFFF;\n",
              "    }\n",
              "  </style>\n",
              "\n",
              "    <script>\n",
              "      const buttonEl =\n",
              "        document.querySelector('#df-145e5b57-2dcb-4885-940e-d5d5be444049 button.colab-df-convert');\n",
              "      buttonEl.style.display =\n",
              "        google.colab.kernel.accessAllowed ? 'block' : 'none';\n",
              "\n",
              "      async function convertToInteractive(key) {\n",
              "        const element = document.querySelector('#df-145e5b57-2dcb-4885-940e-d5d5be444049');\n",
              "        const dataTable =\n",
              "          await google.colab.kernel.invokeFunction('convertToInteractive',\n",
              "                                                    [key], {});\n",
              "        if (!dataTable) return;\n",
              "\n",
              "        const docLinkHtml = 'Like what you see? Visit the ' +\n",
              "          '<a target=\"_blank\" href=https://colab.research.google.com/notebooks/data_table.ipynb>data table notebook</a>'\n",
              "          + ' to learn more about interactive tables.';\n",
              "        element.innerHTML = '';\n",
              "        dataTable['output_type'] = 'display_data';\n",
              "        await google.colab.output.renderOutput(dataTable, element);\n",
              "        const docLink = document.createElement('div');\n",
              "        docLink.innerHTML = docLinkHtml;\n",
              "        element.appendChild(docLink);\n",
              "      }\n",
              "    </script>\n",
              "  </div>\n",
              "\n",
              "\n",
              "<div id=\"df-0de5855b-66b4-41a2-8089-ad17e054bd13\">\n",
              "  <button class=\"colab-df-quickchart\" onclick=\"quickchart('df-0de5855b-66b4-41a2-8089-ad17e054bd13')\"\n",
              "            title=\"Suggest charts.\"\n",
              "            style=\"display:none;\">\n",
              "\n",
              "<svg xmlns=\"http://www.w3.org/2000/svg\" height=\"24px\"viewBox=\"0 0 24 24\"\n",
              "     width=\"24px\">\n",
              "    <g>\n",
              "        <path d=\"M19 3H5c-1.1 0-2 .9-2 2v14c0 1.1.9 2 2 2h14c1.1 0 2-.9 2-2V5c0-1.1-.9-2-2-2zM9 17H7v-7h2v7zm4 0h-2V7h2v10zm4 0h-2v-4h2v4z\"/>\n",
              "    </g>\n",
              "</svg>\n",
              "  </button>\n",
              "\n",
              "<style>\n",
              "  .colab-df-quickchart {\n",
              "      --bg-color: #E8F0FE;\n",
              "      --fill-color: #1967D2;\n",
              "      --hover-bg-color: #E2EBFA;\n",
              "      --hover-fill-color: #174EA6;\n",
              "      --disabled-fill-color: #AAA;\n",
              "      --disabled-bg-color: #DDD;\n",
              "  }\n",
              "\n",
              "  [theme=dark] .colab-df-quickchart {\n",
              "      --bg-color: #3B4455;\n",
              "      --fill-color: #D2E3FC;\n",
              "      --hover-bg-color: #434B5C;\n",
              "      --hover-fill-color: #FFFFFF;\n",
              "      --disabled-bg-color: #3B4455;\n",
              "      --disabled-fill-color: #666;\n",
              "  }\n",
              "\n",
              "  .colab-df-quickchart {\n",
              "    background-color: var(--bg-color);\n",
              "    border: none;\n",
              "    border-radius: 50%;\n",
              "    cursor: pointer;\n",
              "    display: none;\n",
              "    fill: var(--fill-color);\n",
              "    height: 32px;\n",
              "    padding: 0;\n",
              "    width: 32px;\n",
              "  }\n",
              "\n",
              "  .colab-df-quickchart:hover {\n",
              "    background-color: var(--hover-bg-color);\n",
              "    box-shadow: 0 1px 2px rgba(60, 64, 67, 0.3), 0 1px 3px 1px rgba(60, 64, 67, 0.15);\n",
              "    fill: var(--button-hover-fill-color);\n",
              "  }\n",
              "\n",
              "  .colab-df-quickchart-complete:disabled,\n",
              "  .colab-df-quickchart-complete:disabled:hover {\n",
              "    background-color: var(--disabled-bg-color);\n",
              "    fill: var(--disabled-fill-color);\n",
              "    box-shadow: none;\n",
              "  }\n",
              "\n",
              "  .colab-df-spinner {\n",
              "    border: 2px solid var(--fill-color);\n",
              "    border-color: transparent;\n",
              "    border-bottom-color: var(--fill-color);\n",
              "    animation:\n",
              "      spin 1s steps(1) infinite;\n",
              "  }\n",
              "\n",
              "  @keyframes spin {\n",
              "    0% {\n",
              "      border-color: transparent;\n",
              "      border-bottom-color: var(--fill-color);\n",
              "      border-left-color: var(--fill-color);\n",
              "    }\n",
              "    20% {\n",
              "      border-color: transparent;\n",
              "      border-left-color: var(--fill-color);\n",
              "      border-top-color: var(--fill-color);\n",
              "    }\n",
              "    30% {\n",
              "      border-color: transparent;\n",
              "      border-left-color: var(--fill-color);\n",
              "      border-top-color: var(--fill-color);\n",
              "      border-right-color: var(--fill-color);\n",
              "    }\n",
              "    40% {\n",
              "      border-color: transparent;\n",
              "      border-right-color: var(--fill-color);\n",
              "      border-top-color: var(--fill-color);\n",
              "    }\n",
              "    60% {\n",
              "      border-color: transparent;\n",
              "      border-right-color: var(--fill-color);\n",
              "    }\n",
              "    80% {\n",
              "      border-color: transparent;\n",
              "      border-right-color: var(--fill-color);\n",
              "      border-bottom-color: var(--fill-color);\n",
              "    }\n",
              "    90% {\n",
              "      border-color: transparent;\n",
              "      border-bottom-color: var(--fill-color);\n",
              "    }\n",
              "  }\n",
              "</style>\n",
              "\n",
              "  <script>\n",
              "    async function quickchart(key) {\n",
              "      const quickchartButtonEl =\n",
              "        document.querySelector('#' + key + ' button');\n",
              "      quickchartButtonEl.disabled = true;  // To prevent multiple clicks.\n",
              "      quickchartButtonEl.classList.add('colab-df-spinner');\n",
              "      try {\n",
              "        const charts = await google.colab.kernel.invokeFunction(\n",
              "            'suggestCharts', [key], {});\n",
              "      } catch (error) {\n",
              "        console.error('Error during call to suggestCharts:', error);\n",
              "      }\n",
              "      quickchartButtonEl.classList.remove('colab-df-spinner');\n",
              "      quickchartButtonEl.classList.add('colab-df-quickchart-complete');\n",
              "    }\n",
              "    (() => {\n",
              "      let quickchartButtonEl =\n",
              "        document.querySelector('#df-0de5855b-66b4-41a2-8089-ad17e054bd13 button');\n",
              "      quickchartButtonEl.style.display =\n",
              "        google.colab.kernel.accessAllowed ? 'block' : 'none';\n",
              "    })();\n",
              "  </script>\n",
              "</div>\n",
              "    </div>\n",
              "  </div>\n"
            ]
          },
          "metadata": {},
          "execution_count": 3
        }
      ]
    },
    {
      "cell_type": "markdown",
      "source": [
        "# Visualize Data"
      ],
      "metadata": {
        "id": "4ZdVTfqAt9zj"
      }
    },
    {
      "cell_type": "code",
      "source": [
        "#I used a Seaborn lmplot to visualize the regression line of this data\n",
        "sns.lmplot(x=\"Population\", y=\"Profit\", data=df)"
      ],
      "metadata": {
        "id": "JAKrI-kCtQio",
        "colab": {
          "base_uri": "https://localhost:8080/",
          "height": 524
        },
        "outputId": "8181d113-7aad-4d75-f490-58859c5710c6"
      },
      "execution_count": null,
      "outputs": [
        {
          "output_type": "execute_result",
          "data": {
            "text/plain": [
              "<seaborn.axisgrid.FacetGrid at 0x7cd0970cece0>"
            ]
          },
          "metadata": {},
          "execution_count": 9
        },
        {
          "output_type": "display_data",
          "data": {
            "text/plain": [
              "<Figure size 500x500 with 1 Axes>"
            ],
            "image/png": "[encoded data removed]"
          },
          "metadata": {}
        }
      ]
    },
    {
      "cell_type": "markdown",
      "source": [
        "\n",
        "# Configure Plot Options"
      ],
      "metadata": {
        "id": "JkMvGCL2to69"
      }
    },
    {
      "cell_type": "code",
      "source": [
        "plt.rcParams['figure.dpi']=104\n",
        "plt.rcParams['figure.figsize'] = [6,4]\n",
        "plt.rcParams['figure.facecolor']= '#888888'\n",
        "plt.rcParams['font.size']=14\n",
        "plt.rcParams['lines.linewidth']= 3\n",
        "plt.rcParams['lines.color'] = 'red'"
      ],
      "metadata": {
        "id": "ReFhGg8GuCvO"
      },
      "execution_count": null,
      "outputs": []
    },
    {
      "cell_type": "markdown",
      "source": [
        "# Define Functions to Plot Points and Lines"
      ],
      "metadata": {
        "id": "4pbEhEC-upfn"
      }
    },
    {
      "cell_type": "code",
      "source": [
        "def vPlotPoint(x,y) : plt.scatter(x,y,marker='x', color='#0000ff', zorder=10);\n",
        "\n",
        "def vPlotPoints(x,y):\n",
        "  ax = plt.axes();\n",
        "  ax.set_facecolor('#99cc99')\n",
        "  plt.xlabel('Population')\n",
        "  plt.ylabel('Profit')\n",
        "  plt.title('Profit vs Population')\n",
        "  plt.scatter(x,y,marker='o',color='#000077',zorder=5);\n",
        "\n",
        "def vLine(x,m,b):\n",
        "    plt.plot(x,m*x +b, color ='#bb0000', linewidth =3, zorder=0);"
      ],
      "metadata": {
        "id": "It7SaBahuovx"
      },
      "execution_count": null,
      "outputs": []
    },
    {
      "cell_type": "markdown",
      "source": [
        "# Split Data Into Training and Test Sets"
      ],
      "metadata": {
        "id": "t47Trdo1vVkA"
      }
    },
    {
      "cell_type": "markdown",
      "source": [
        "I believe this will randomly split the values into test and train data sets. This will cause the data to be a little more inconsistent through different trials."
      ],
      "metadata": {
        "id": "lEE9HrC2F_lK"
      }
    },
    {
      "cell_type": "code",
      "source": [
        "x_train, x_test, y_train, y_test = train_test_split(df.Population, df.Profit, test_size = 0.2)\n",
        "print(\"x_train: \", np.array(x_train).reshape(-1,1))\n",
        "print(\"y_train: \", np.array(y_train).reshape(-1,1))"
      ],
      "metadata": {
        "id": "O6y-ggk5vUmu",
        "colab": {
          "base_uri": "https://localhost:8080/"
        },
        "outputId": "abbb77e6-238e-44c5-c721-9dfcf48d0105"
      },
      "execution_count": null,
      "outputs": [
        {
          "output_type": "stream",
          "name": "stdout",
          "text": [
            "x_train:  [[ 6.4862]\n",
            " [ 8.3829]\n",
            " [20.341 ]\n",
            " [ 7.3345]\n",
            " [ 6.2742]\n",
            " [ 8.5781]\n",
            " [ 5.7292]\n",
            " [ 5.4069]\n",
            " [ 9.3102]\n",
            " [ 8.0959]\n",
            " [ 8.8254]\n",
            " [ 7.6031]\n",
            " [ 7.5402]\n",
            " [ 6.3589]\n",
            " [13.394 ]\n",
            " [ 5.6397]\n",
            " [ 5.0702]\n",
            " [ 5.3054]\n",
            " [11.7   ]\n",
            " [ 7.2182]\n",
            " [ 6.8825]\n",
            " [ 6.0062]\n",
            " [ 9.4536]\n",
            " [ 8.2951]\n",
            " [ 7.6366]\n",
            " [10.957 ]\n",
            " [ 5.4369]\n",
            " [ 5.3077]\n",
            " [ 5.8707]\n",
            " [18.945 ]\n",
            " [14.164 ]\n",
            " [ 6.1891]\n",
            " [ 5.4901]\n",
            " [ 5.7107]\n",
            " [ 7.0032]\n",
            " [10.236 ]\n",
            " [20.27  ]\n",
            " [ 5.4994]\n",
            " [ 7.4239]\n",
            " [ 6.3328]\n",
            " [ 5.0269]\n",
            " [ 7.9334]\n",
            " [ 5.7737]\n",
            " [10.274 ]\n",
            " [ 7.2259]\n",
            " [ 5.8918]\n",
            " [ 5.2524]\n",
            " [ 6.3654]\n",
            " [ 5.0546]\n",
            " [12.828 ]\n",
            " [ 8.4084]\n",
            " [14.908 ]\n",
            " [ 5.1793]\n",
            " [ 6.5159]\n",
            " [ 5.5204]\n",
            " [ 8.5172]\n",
            " [ 5.1077]\n",
            " [ 9.2482]\n",
            " [ 8.2111]\n",
            " [ 5.0594]\n",
            " [ 5.7077]\n",
            " [ 6.3261]\n",
            " [ 5.8598]\n",
            " [ 5.5649]\n",
            " [ 5.0365]\n",
            " [ 5.6407]\n",
            " [ 7.0708]\n",
            " [ 6.3557]\n",
            " [12.836 ]\n",
            " [18.959 ]\n",
            " [ 7.5386]\n",
            " [ 5.5277]\n",
            " [21.279 ]\n",
            " [10.136 ]\n",
            " [ 6.1101]\n",
            " [ 6.4296]\n",
            " [ 5.3794]]\n",
            "y_train:  [[ 6.5987 ]\n",
            " [11.886  ]\n",
            " [20.992  ]\n",
            " [ 4.0259 ]\n",
            " [ 2.4756 ]\n",
            " [12.     ]\n",
            " [ 0.47953]\n",
            " [ 0.55657]\n",
            " [ 3.9624 ]\n",
            " [ 4.1164 ]\n",
            " [ 5.1694 ]\n",
            " [ 4.9981 ]\n",
            " [ 6.7504 ]\n",
            " [-1.4211 ]\n",
            " [ 9.0551 ]\n",
            " [ 4.6042 ]\n",
            " [ 5.1337 ]\n",
            " [ 1.9869 ]\n",
            " [ 8.0043 ]\n",
            " [ 4.8852 ]\n",
            " [ 3.9115 ]\n",
            " [ 1.2784 ]\n",
            " [ 5.4141 ]\n",
            " [ 5.7442 ]\n",
            " [ 4.2959 ]\n",
            " [ 7.0467 ]\n",
            " [ 0.61705]\n",
            " [ 1.8396 ]\n",
            " [ 7.2029 ]\n",
            " [22.638  ]\n",
            " [15.505  ]\n",
            " [ 3.1386 ]\n",
            " [ 4.263  ]\n",
            " [ 3.2522 ]\n",
            " [11.854  ]\n",
            " [ 7.7754 ]\n",
            " [21.767  ]\n",
            " [ 1.0173 ]\n",
            " [ 4.2885 ]\n",
            " [ 1.4233 ]\n",
            " [-2.6807 ]\n",
            " [ 4.5623 ]\n",
            " [ 2.4406 ]\n",
            " [ 6.7526 ]\n",
            " [ 3.3411 ]\n",
            " [ 1.8495 ]\n",
            " [-1.22   ]\n",
            " [ 5.3048 ]\n",
            " [ 3.8166 ]\n",
            " [13.501  ]\n",
            " [ 7.2258 ]\n",
            " [12.054  ]\n",
            " [-0.74279]\n",
            " [ 5.3436 ]\n",
            " [ 0.152  ]\n",
            " [ 4.2415 ]\n",
            " [ 2.0576 ]\n",
            " [12.134  ]\n",
            " [ 6.5426 ]\n",
            " [ 2.8214 ]\n",
            " [ 1.8451 ]\n",
            " [ 5.1875 ]\n",
            " [ 6.8233 ]\n",
            " [ 3.0825 ]\n",
            " [ 5.7014 ]\n",
            " [ 0.71618]\n",
            " [ 5.3893 ]\n",
            " [ 0.67861]\n",
            " [10.117  ]\n",
            " [17.054  ]\n",
            " [ 3.8845 ]\n",
            " [ 9.1302 ]\n",
            " [17.929  ]\n",
            " [ 6.6799 ]\n",
            " [17.592  ]\n",
            " [ 3.6518 ]\n",
            " [ 3.5129 ]]\n"
          ]
        }
      ]
    },
    {
      "cell_type": "code",
      "source": [
        "print(\"x_test: \", np.array(x_test).reshape(-1,1))\n",
        "print( )\n",
        "print(\"y_test: \", np.array(y_test).reshape(-1,1))"
      ],
      "metadata": {
        "id": "5ZtGg0_CyORA",
        "colab": {
          "base_uri": "https://localhost:8080/"
        },
        "outputId": "1fc5aef0-9a9c-47e8-dc59-e984e5bf11f0"
      },
      "execution_count": null,
      "outputs": [
        {
          "output_type": "stream",
          "name": "stdout",
          "text": [
            "x_test: [[18.959 ]\n",
            " [13.394 ]\n",
            " [20.27  ]\n",
            " [ 5.0546]\n",
            " [12.836 ]\n",
            " [ 7.6366]\n",
            " [ 5.1301]\n",
            " [ 5.0702]\n",
            " [ 7.5386]\n",
            " [ 6.3557]\n",
            " [ 6.5894]\n",
            " [ 7.0708]\n",
            " [ 6.4296]\n",
            " [ 5.734 ]\n",
            " [ 8.8254]\n",
            " [10.274 ]\n",
            " [ 5.5277]\n",
            " [ 7.6031]\n",
            " [ 9.4536]\n",
            " [ 9.3102]]\n",
            "\n",
            "[[17.054  ]\n",
            " [ 9.0551 ]\n",
            " [21.767  ]\n",
            " [ 3.8166 ]\n",
            " [10.117  ]\n",
            " [ 4.2959 ]\n",
            " [ 0.56077]\n",
            " [ 5.1337 ]\n",
            " [ 3.8845 ]\n",
            " [ 0.67861]\n",
            " [ 5.9966 ]\n",
            " [ 5.3893 ]\n",
            " [ 3.6518 ]\n",
            " [ 3.1551 ]\n",
            " [ 5.1694 ]\n",
            " [ 6.7526 ]\n",
            " [ 9.1302 ]\n",
            " [ 4.9981 ]\n",
            " [ 5.4141 ]\n",
            " [ 3.9624 ]]\n"
          ]
        }
      ]
    },
    {
      "cell_type": "markdown",
      "source": [
        "# Create Arrays of the Correct Size and Fit a Linear Regression line\n"
      ],
      "metadata": {
        "id": "e00Me_LzIfxB"
      }
    },
    {
      "cell_type": "code",
      "source": [
        "x = np.array([x_train]).reshape((-1,1))\n",
        "y = np.array([y_train]).reshape((-1,1))\n",
        "model = LinearRegression()\n",
        "model.fit(x, y)"
      ],
      "metadata": {
        "id": "YDqto91o0Ewj",
        "colab": {
          "base_uri": "https://localhost:8080/",
          "height": 75
        },
        "outputId": "baea8c5a-8a86-4eb6-b904-bf8c0cb6f2f4"
      },
      "execution_count": null,
      "outputs": [
        {
          "output_type": "execute_result",
          "data": {
            "text/plain": [
              "LinearRegression()"
            ],
            "text/html": [
              "<style>#sk-container-id-1 {color: black;background-color: white;}#sk-container-id-1 pre{padding: 0;}#sk-container-id-1 div.sk-toggleable {background-color: white;}#sk-container-id-1 label.sk-toggleable__label {cursor: pointer;display: block;width: 100%;margin-bottom: 0;padding: 0.3em;box-sizing: border-box;text-align: center;}#sk-container-id-1 label.sk-toggleable__label-arrow:before {content: \"▸\";float: left;margin-right: 0.25em;color: #696969;}#sk-container-id-1 label.sk-toggleable__label-arrow:hover:before {color: black;}#sk-container-id-1 div.sk-estimator:hover label.sk-toggleable__label-arrow:before {color: black;}#sk-container-id-1 div.sk-toggleable__content {max-height: 0;max-width: 0;overflow: hidden;text-align: left;background-color: #f0f8ff;}#sk-container-id-1 div.sk-toggleable__content pre {margin: 0.2em;color: black;border-radius: 0.25em;background-color: #f0f8ff;}#sk-container-id-1 input.sk-toggleable__control:checked~div.sk-toggleable__content {max-height: 200px;max-width: 100%;overflow: auto;}#sk-container-id-1 input.sk-toggleable__control:checked~label.sk-toggleable__label-arrow:before {content: \"▾\";}#sk-container-id-1 div.sk-estimator input.sk-toggleable__control:checked~label.sk-toggleable__label {background-color: #d4ebff;}#sk-container-id-1 div.sk-label input.sk-toggleable__control:checked~label.sk-toggleable__label {background-color: #d4ebff;}#sk-container-id-1 input.sk-hidden--visually {border: 0;clip: rect(1px 1px 1px 1px);clip: rect(1px, 1px, 1px, 1px);height: 1px;margin: -1px;overflow: hidden;padding: 0;position: absolute;width: 1px;}#sk-container-id-1 div.sk-estimator {font-family: monospace;background-color: #f0f8ff;border: 1px dotted black;border-radius: 0.25em;box-sizing: border-box;margin-bottom: 0.5em;}#sk-container-id-1 div.sk-estimator:hover {background-color: #d4ebff;}#sk-container-id-1 div.sk-parallel-item::after {content: \"\";width: 100%;border-bottom: 1px solid gray;flex-grow: 1;}#sk-container-id-1 div.sk-label:hover label.sk-toggleable__label {background-color: #d4ebff;}#sk-container-id-1 div.sk-serial::before {content: \"\";position: absolute;border-left: 1px solid gray;box-sizing: border-box;top: 0;bottom: 0;left: 50%;z-index: 0;}#sk-container-id-1 div.sk-serial {display: flex;flex-direction: column;align-items: center;background-color: white;padding-right: 0.2em;padding-left: 0.2em;position: relative;}#sk-container-id-1 div.sk-item {position: relative;z-index: 1;}#sk-container-id-1 div.sk-parallel {display: flex;align-items: stretch;justify-content: center;background-color: white;position: relative;}#sk-container-id-1 div.sk-item::before, #sk-container-id-1 div.sk-parallel-item::before {content: \"\";position: absolute;border-left: 1px solid gray;box-sizing: border-box;top: 0;bottom: 0;left: 50%;z-index: -1;}#sk-container-id-1 div.sk-parallel-item {display: flex;flex-direction: column;z-index: 1;position: relative;background-color: white;}#sk-container-id-1 div.sk-parallel-item:first-child::after {align-self: flex-end;width: 50%;}#sk-container-id-1 div.sk-parallel-item:last-child::after {align-self: flex-start;width: 50%;}#sk-container-id-1 div.sk-parallel-item:only-child::after {width: 0;}#sk-container-id-1 div.sk-dashed-wrapped {border: 1px dashed gray;margin: 0 0.4em 0.5em 0.4em;box-sizing: border-box;padding-bottom: 0.4em;background-color: white;}#sk-container-id-1 div.sk-label label {font-family: monospace;font-weight: bold;display: inline-block;line-height: 1.2em;}#sk-container-id-1 div.sk-label-container {text-align: center;}#sk-container-id-1 div.sk-container {/* jupyter's `normalize.less` sets `[hidden] { display: none; }` but bootstrap.min.css set `[hidden] { display: none !important; }` so we also need the `!important` here to be able to override the default hidden behavior on the sphinx rendered scikit-learn.org. See: https://github.com/scikit-learn/scikit-learn/issues/21755 */display: inline-block !important;position: relative;}#sk-container-id-1 div.sk-text-repr-fallback {display: none;}</style><div id=\"sk-container-id-1\" class=\"sk-top-container\"><div class=\"sk-text-repr-fallback\"><pre>LinearRegression()</pre><b>In a Jupyter environment, please rerun this cell to show the HTML representation or trust the notebook. <br />On GitHub, the HTML representation is unable to render, please try loading this page with nbviewer.org.</b></div><div class=\"sk-container\" hidden><div class=\"sk-item\"><div class=\"sk-estimator sk-toggleable\"><input class=\"sk-toggleable__control sk-hidden--visually\" id=\"sk-estimator-id-1\" type=\"checkbox\" checked><label for=\"sk-estimator-id-1\" class=\"sk-toggleable__label sk-toggleable__label-arrow\">LinearRegression</label><div class=\"sk-toggleable__content\"><pre>LinearRegression()</pre></div></div></div></div></div>"
            ]
          },
          "metadata": {},
          "execution_count": 24
        }
      ]
    },
    {
      "cell_type": "markdown",
      "source": [
        "# Expressing Coefficient of Determination"
      ],
      "metadata": {
        "id": "x22BsGM8IsSy"
      }
    },
    {
      "cell_type": "code",
      "source": [
        "R_squared = model.score(x,y)\n",
        "print ('Coefficient of Determination: ', round(R_squared, 2))\n",
        "print ('We have a ', int(100*round(R_squared,2)), '% certainty that Population explains Profit.', sep='')"
      ],
      "metadata": {
        "id": "dZo4PvtzzU4i",
        "colab": {
          "base_uri": "https://localhost:8080/"
        },
        "outputId": "657888e5-e07e-4e9f-9cd6-ff6d11b79c4a"
      },
      "execution_count": null,
      "outputs": [
        {
          "output_type": "stream",
          "name": "stdout",
          "text": [
            "Coefficient of Determination:  0.69\n",
            "We have a 69% certainty that Population explains Profit.\n"
          ]
        }
      ]
    },
    {
      "cell_type": "markdown",
      "source": [
        "# Finding Intercept and Slope of Linear Regression Line"
      ],
      "metadata": {
        "id": "1_h2SfC5JIjh"
      }
    },
    {
      "cell_type": "code",
      "source": [
        "b = model.intercept_\n",
        "m = model.coef_[0]\n",
        "print('intercept: ', b)\n",
        "print('slope: ', m)\n",
        "\n",
        "vPlotPoints(x,y)\n",
        "vLine(x,m,b)"
      ],
      "metadata": {
        "id": "2CT8ztb-1Dv2",
        "colab": {
          "base_uri": "https://localhost:8080/",
          "height": 474
        },
        "outputId": "3a1a7fbb-3997-42bd-81db-4479d264eca1"
      },
      "execution_count": null,
      "outputs": [
        {
          "output_type": "stream",
          "name": "stdout",
          "text": [
            "intercept:  [-3.44110823]\n",
            "slope:  [1.15325183]\n"
          ]
        },
        {
          "output_type": "display_data",
          "data": {
            "text/plain": [
              "<Figure size 624x416 with 1 Axes>"
            ],
            "image/png": "[encoded data removed]"
          },
          "metadata": {}
        }
      ]
    },
    {
      "cell_type": "markdown",
      "source": [
        "# Comparing Test Data Predictions to y_test"
      ],
      "metadata": {
        "id": "tyhOrJSNFOLW"
      }
    },
    {
      "cell_type": "code",
      "source": [
        "predictions = model.predict(np.array(x_test).reshape(-1,1))\n",
        "print(predictions)"
      ],
      "metadata": {
        "id": "1V_KAaLzE29g",
        "colab": {
          "base_uri": "https://localhost:8080/"
        },
        "outputId": "6bab1a03-5309-4e20-b573-ecae92ab1fba"
      },
      "execution_count": null,
      "outputs": [
        {
          "output_type": "stream",
          "name": "stdout",
          "text": [
            "[[ 3.17163778]\n",
            " [ 3.48070927]\n",
            " [ 2.94975213]\n",
            " [ 3.02436752]\n",
            " [ 4.11026945]\n",
            " [ 3.24936696]\n",
            " [ 7.14597425]\n",
            " [ 4.1581294 ]\n",
            " [ 7.82466295]\n",
            " [ 5.58274139]\n",
            " [ 5.18106377]\n",
            " [11.75413792]\n",
            " [ 4.73902235]\n",
            " [22.16454221]\n",
            " [ 3.88596197]\n",
            " [ 2.475189  ]\n",
            " [ 2.54242358]\n",
            " [10.06116423]\n",
            " [ 6.12327052]\n",
            " [ 6.38298283]]\n"
          ]
        }
      ]
    },
    {
      "cell_type": "code",
      "source": [
        "print(np.array(y_test).reshape(-1,1))"
      ],
      "metadata": {
        "id": "wjasmAG9Feqi",
        "colab": {
          "base_uri": "https://localhost:8080/"
        },
        "outputId": "2ef6a64d-d3e4-44d2-f0d0-8e2873633962"
      },
      "execution_count": null,
      "outputs": [
        {
          "output_type": "stream",
          "name": "stdout",
          "text": [
            "[[ 3.1551 ]\n",
            " [ 0.92695]\n",
            " [ 1.0179 ]\n",
            " [ 3.3928 ]\n",
            " [ 0.29678]\n",
            " [ 1.844  ]\n",
            " [ 6.7981 ]\n",
            " [ 5.9966 ]\n",
            " [ 7.5435 ]\n",
            " [ 6.7318 ]\n",
            " [ 4.3483 ]\n",
            " [14.692  ]\n",
            " [ 1.0463 ]\n",
            " [24.147  ]\n",
            " [ 5.4974 ]\n",
            " [ 0.56077]\n",
            " [ 0.20421]\n",
            " [ 5.3854 ]\n",
            " [ 0.14454]\n",
            " [13.662  ]]\n"
          ]
        }
      ]
    },
    {
      "cell_type": "code",
      "source": [
        "vPlotPoints(x_test,predictions)\n",
        "plt.plot(x_test,y_test,'bo',color ='#000000');\n",
        "plt.legend(['Predicted', 'Actual'], loc=2)\n",
        "vLine(x,m,b)"
      ],
      "metadata": {
        "colab": {
          "base_uri": "https://localhost:8080/",
          "height": 474
        },
        "id": "uXEnervRcXHw",
        "outputId": "c16955f6-9f68-41be-ee43-8fdd1fd914ec"
      },
      "execution_count": null,
      "outputs": [
        {
          "output_type": "stream",
          "name": "stderr",
          "text": [
            "<ipython-input-29-d65d269ac5c5>:2: UserWarning: color is redundantly defined by the 'color' keyword argument and the fmt string \"bo\" (-> color='b'). The keyword argument will take precedence.\n",
            "  plt.plot(x_test,y_test,'bo',color ='#000000');\n"
          ]
        },
        {
          "output_type": "display_data",
          "data": {
            "text/plain": [
              "<Figure size 624x416 with 1 Axes>"
            ],
            "image/png": "[encoded data removed]"
          },
          "metadata": {}
        }
      ]
    },
    {
      "cell_type": "markdown",
      "source": [
        "# Sum of Squared Error"
      ],
      "metadata": {
        "id": "npcLfJWbNJZg"
      }
    },
    {
      "cell_type": "code",
      "source": [
        "residuals = predictions - np.array(y_test).reshape(-1,1)\n",
        "print(np.array(residuals))"
      ],
      "metadata": {
        "id": "vf0Cm8UBFjwJ",
        "colab": {
          "base_uri": "https://localhost:8080/"
        },
        "outputId": "c86c2912-327d-40a5-e47a-dde408a3dda7"
      },
      "execution_count": null,
      "outputs": [
        {
          "output_type": "stream",
          "name": "stdout",
          "text": [
            "[[ 0.01653778]\n",
            " [ 2.55375927]\n",
            " [ 1.93185213]\n",
            " [-0.36843248]\n",
            " [ 3.81348945]\n",
            " [ 1.40536696]\n",
            " [ 0.34787425]\n",
            " [-1.8384706 ]\n",
            " [ 0.28116295]\n",
            " [-1.14905861]\n",
            " [ 0.83276377]\n",
            " [-2.93786208]\n",
            " [ 3.69272235]\n",
            " [-1.98245779]\n",
            " [-1.61143803]\n",
            " [ 1.914419  ]\n",
            " [ 2.33821358]\n",
            " [ 4.67576423]\n",
            " [ 5.97873052]\n",
            " [-7.27901717]]\n"
          ]
        }
      ]
    },
    {
      "cell_type": "code",
      "source": [
        "squared = residuals * residuals\n",
        "sse = sum(squared/len(residuals))\n",
        "print(sse)"
      ],
      "metadata": {
        "id": "UIGd4NtjMO_4",
        "colab": {
          "base_uri": "https://localhost:8080/"
        },
        "outputId": "f2abe66d-413d-4f85-c60d-60c459517666"
      },
      "execution_count": null,
      "outputs": [
        {
          "output_type": "stream",
          "name": "stdout",
          "text": [
            "[9.05099072]\n"
          ]
        }
      ]
    },
    {
      "cell_type": "markdown",
      "source": [
        "# Distribution of Error"
      ],
      "metadata": {
        "id": "E9en3BnNGQAJ"
      }
    },
    {
      "cell_type": "code",
      "source": [
        "plt.hist(residuals)\n",
        "plt.ylabel('# of Ocurrances')\n",
        "plt.xlabel('Error Value')"
      ],
      "metadata": {
        "id": "hYWCelpMF4jD",
        "colab": {
          "base_uri": "https://localhost:8080/",
          "height": 429
        },
        "outputId": "362b321f-0b5a-4251-e577-1db842319f9c"
      },
      "execution_count": null,
      "outputs": [
        {
          "output_type": "execute_result",
          "data": {
            "text/plain": [
              "Text(0.5, 0, 'Error Value')"
            ]
          },
          "metadata": {},
          "execution_count": 32
        },
        {
          "output_type": "display_data",
          "data": {
            "text/plain": [
              "<Figure size 624x416 with 1 Axes>"
            ],
            "image/png": "[encoded data removed]"
          },
          "metadata": {}
        }
      ]
    }
  ]
}